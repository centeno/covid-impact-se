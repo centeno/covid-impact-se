{
  "nbformat": 4,
  "nbformat_minor": 0,
  "metadata": {
    "colab": {
      "name": "step01_collection_data_drive.ipynb",
      "provenance": [],
      "collapsed_sections": [],
      "include_colab_link": true
    },
    "kernelspec": {
      "name": "python3",
      "display_name": "Python 3"
    }
  },
  "cells": [
    {
      "cell_type": "markdown",
      "metadata": {
        "id": "view-in-github",
        "colab_type": "text"
      },
      "source": [
        "<a href=\"https://colab.research.google.com/github/centeno/covid-impact-se/blob/master/step01_1_collection_grey_GoogleDrive.ipynb\" target=\"_parent\"><img src=\"https://colab.research.google.com/assets/colab-badge.svg\" alt=\"Open In Colab\"/></a>"
      ]
    },
    {
      "cell_type": "markdown",
      "metadata": {
        "id": "3fGUHmzFHXL8"
      },
      "source": [
        "### Instalação das dependencias\n",
        "#### SEMPRE RODAR ANTES"
      ]
    },
    {
      "cell_type": "code",
      "metadata": {
        "id": "peIxC2XGXQhI",
        "colab": {
          "base_uri": "https://localhost:8080/",
          "height": 105
        },
        "outputId": "a9307f68-3511-4928-b553-b065d1e32b7c"
      },
      "source": [
        "\n",
        "#!apt-get update # to update ubuntu to correctly run apt install\n",
        "\n",
        "'''\n",
        "\n",
        "# scraper\n",
        "!pip install selenium\n",
        "!apt install chromium-chromedriver\n",
        "!pip install webdriver-manager\n",
        "!cp /usr/lib/chromium-browser/chromedriver/usr/bin\n",
        "\n",
        "!apt-get update\n",
        "!apt install chromium-chromedriver\n",
        "!cp /usr/lib/chromium-browser/chromedriver /usr/bin\n",
        "!pip install selenium msticpy tld folium\n",
        "!pip pymongo pymongo[srv] dnspython\n",
        "\n",
        "# geocoder ipaddress\n",
        "!pip install msticpy\n",
        "\n",
        "# get domain\n",
        "!pip3 install tld\n",
        "\n",
        "\n",
        "# spacy\n",
        "!pip install -U pip setuptools wheel\n",
        "!pip install -U spacy\n",
        "#!python -m spacy download en\n",
        "#!python -m spacy download pt\n",
        "!python -m spacy download en_core_web_sm\n",
        "# spacy contextual Spell Check\n",
        "!pip install contextualSpellCheck\n",
        "!curl https://raw.githubusercontent.com/codelucas/newspaper/master/download_corpora.py | python3\n",
        "\n",
        "\n",
        "'''"
      ],
      "execution_count": 784,
      "outputs": [
        {
          "output_type": "execute_result",
          "data": {
            "application/vnd.google.colaboratory.intrinsic+json": {
              "type": "string"
            },
            "text/plain": [
              "'\\n\\n# scraper\\n!pip install selenium\\n!apt install chromium-chromedriver\\n!pip install webdriver-manager\\n!cp /usr/lib/chromium-browser/chromedriver/usr/bin\\n\\n!apt-get update\\n!apt install chromium-chromedriver\\n!cp /usr/lib/chromium-browser/chromedriver /usr/bin\\n!pip install selenium msticpy tld folium\\n!pip pymongo pymongo[srv] dnspython\\n\\n# geocoder ipaddress\\n!pip install msticpy\\n\\n# get domain\\n!pip3 install tld\\n\\n\\n# spacy\\n!pip install -U pip setuptools wheel\\n!pip install -U spacy\\n#!python -m spacy download en\\n#!python -m spacy download pt\\n!python -m spacy download en_core_web_sm\\n# spacy contextual Spell Check\\n!pip install contextualSpellCheck\\n!curl https://raw.githubusercontent.com/codelucas/newspaper/master/download_corpora.py | python3\\n\\n\\n'"
            ]
          },
          "metadata": {},
          "execution_count": 784
        }
      ]
    },
    {
      "cell_type": "markdown",
      "metadata": {
        "id": "szGoB74QHhYr"
      },
      "source": [
        "### Import das dependencias"
      ]
    },
    {
      "cell_type": "code",
      "metadata": {
        "id": "nLeehjZAYSFw"
      },
      "source": [
        "import os\n",
        "import glob\n",
        "import selenium\n",
        "from bs4 import BeautifulSoup\n",
        "from selenium import webdriver\n",
        "from selenium.webdriver.common.by import By\n",
        "from selenium.webdriver.common.keys import Keys\n",
        "from selenium.webdriver.chrome.options import Options\n",
        "from selenium.webdriver.support.ui import WebDriverWait\n",
        "#from webdriver_manager.chrome import ChromeDriverManager\n",
        "from selenium.webdriver.support import expected_conditions as EC\n",
        "from datetime import datetime, date, timedelta\n",
        "\n",
        "import urllib\n",
        "import socket\n",
        "from msticpy.sectools.geoip import IPStackLookup\n",
        "\n",
        "import spacy\n",
        "import contextualSpellCheck\n",
        "\n",
        "import pymongo\n",
        "import numpy as np\n",
        "import pandas as pd\n",
        "from datetime import datetime as dt\n",
        "from datetime import date, timedelta\n",
        "from pandas.tseries.offsets import DateOffset\n",
        "import dns\n",
        "\n",
        "import tld\n",
        "from tld import get_tld, get_fld\n",
        "\n",
        "from google.colab import drive"
      ],
      "execution_count": 785,
      "outputs": []
    },
    {
      "cell_type": "markdown",
      "metadata": {
        "id": "vPibWpuFFi2t"
      },
      "source": [
        "### Connect google drive"
      ]
    },
    {
      "cell_type": "code",
      "metadata": {
        "colab": {
          "base_uri": "https://localhost:8080/"
        },
        "id": "w6CKkV18FjMF",
        "outputId": "2359e53e-7da2-46e1-ec6b-cdbaa0495832"
      },
      "source": [
        "# Codigo para montar o Google Drive\n",
        "drive.mount('/content/drive')"
      ],
      "execution_count": 786,
      "outputs": [
        {
          "output_type": "stream",
          "name": "stdout",
          "text": [
            "Drive already mounted at /content/drive; to attempt to forcibly remount, call drive.mount(\"/content/drive\", force_remount=True).\n"
          ]
        }
      ]
    },
    {
      "cell_type": "code",
      "metadata": {
        "id": "UcVs1kyvQykq",
        "colab": {
          "base_uri": "https://localhost:8080/"
        },
        "outputId": "6eb5f829-b410-4ce4-a24e-46e8e5809d8f"
      },
      "source": [
        "#Caminho no google drive\n",
        "path = \"/content/drive/My Drive/covid19impactSE/data/01_grey/2021/01_collect/en/\"\n",
        "\n",
        "# Listar os arquivos da pasta no google drive\n",
        "os.chdir(path)\n",
        "!ls"
      ],
      "execution_count": 787,
      "outputs": [
        {
          "output_type": "stream",
          "name": "stdout",
          "text": [
            "huggingface/tokenizers: The current process just got forked, after parallelism has already been used. Disabling parallelism to avoid deadlocks...\n",
            "To disable this warning, you can either:\n",
            "\t- Avoid using `tokenizers` before the fork if possible\n",
            "\t- Explicitly set the environment variable TOKENIZERS_PARALLELISM=(true | false)\n",
            "2021-01-01.csv\t2021-01-19.csv\t2021-02-06.csv\t2021-02-24.csv\t2021-03-14.csv\n",
            "2021-01-02.csv\t2021-01-20.csv\t2021-02-07.csv\t2021-02-25.csv\t2021-03-15.csv\n",
            "2021-01-03.csv\t2021-01-21.csv\t2021-02-08.csv\t2021-02-26.csv\t2021-03-16.csv\n",
            "2021-01-04.csv\t2021-01-22.csv\t2021-02-09.csv\t2021-02-27.csv\t2021-03-17.csv\n",
            "2021-01-05.csv\t2021-01-23.csv\t2021-02-10.csv\t2021-02-28.csv\t2021-03-18.csv\n",
            "2021-01-06.csv\t2021-01-24.csv\t2021-02-11.csv\t2021-03-01.csv\t2021-03-19.csv\n",
            "2021-01-07.csv\t2021-01-25.csv\t2021-02-12.csv\t2021-03-02.csv\t2021-03-20.csv\n",
            "2021-01-08.csv\t2021-01-26.csv\t2021-02-13.csv\t2021-03-03.csv\t2021-03-21.csv\n",
            "2021-01-09.csv\t2021-01-27.csv\t2021-02-14.csv\t2021-03-04.csv\t2021-03-22.csv\n",
            "2021-01-10.csv\t2021-01-28.csv\t2021-02-15.csv\t2021-03-05.csv\t2021-03-23.csv\n",
            "2021-01-11.csv\t2021-01-29.csv\t2021-02-16.csv\t2021-03-06.csv\t2021-03-24.csv\n",
            "2021-01-12.csv\t2021-01-30.csv\t2021-02-17.csv\t2021-03-07.csv\t2021-03-25.csv\n",
            "2021-01-13.csv\t2021-01-31.csv\t2021-02-18.csv\t2021-03-08.csv\t2021-03-26.csv\n",
            "2021-01-14.csv\t2021-02-01.csv\t2021-02-19.csv\t2021-03-09.csv\t2021-03-27.csv\n",
            "2021-01-15.csv\t2021-02-02.csv\t2021-02-20.csv\t2021-03-10.csv\t2021-03-28.csv\n",
            "2021-01-16.csv\t2021-02-03.csv\t2021-02-21.csv\t2021-03-11.csv\t2021-03-29.csv\n",
            "2021-01-17.csv\t2021-02-04.csv\t2021-02-22.csv\t2021-03-12.csv\t2021-03-30.csv\n",
            "2021-01-18.csv\t2021-02-05.csv\t2021-02-23.csv\t2021-03-13.csv\t2021-03-31.csv\n"
          ]
        }
      ]
    },
    {
      "cell_type": "markdown",
      "metadata": {
        "id": "vlaCULY2ErB4"
      },
      "source": [
        "### Import chaves de api"
      ]
    },
    {
      "cell_type": "code",
      "metadata": {
        "id": "erTxO61uFKGf"
      },
      "source": [
        "# drive\n",
        "keys = pd.read_csv(\"/content/drive/My Drive/covid19impactSE/keys/credentials.csv\", sep=';')\n",
        "access_token_ipstack = keys.loc[0,\"key\"]\n",
        "access_token_pymongo = keys.loc[1,\"key\"]"
      ],
      "execution_count": 788,
      "outputs": []
    },
    {
      "cell_type": "markdown",
      "metadata": {
        "id": "iQWfn8vrSzi4"
      },
      "source": [
        "### Create functions"
      ]
    },
    {
      "cell_type": "code",
      "metadata": {
        "id": "RK9lKTBN_7N6"
      },
      "source": [
        "import pandas as pd\n",
        "GSE_RESULTS_CLASS = 'ZINbbc xpd O9g5cc uUPGi'\n",
        "GSE_MAX_RESULTS = 200\n",
        "\n",
        "NLP = spacy.load(\"en_core_web_sm\")\n",
        "contextualSpellCheck.add_to_pipe(NLP)\n",
        "\n",
        "def get_driver():\n",
        "  options = webdriver.ChromeOptions()\n",
        "  options.add_argument('--headless')\n",
        "  options.add_argument('--no-sandbox')\n",
        "  options.add_argument('--disable-dev-shm-usage')\n",
        "  options.add_argument('user-agent=Mozilla/5.0 (Windows NT 6.2; Win64; x64) AppleWebKit/537.36 (KHTML, like Gecko) Chrome/32.0.1667.0 Safari/537.36')    \n",
        "  return webdriver.Chrome('chromedriver',options=options)\n",
        "\n",
        "def page_source(query, date):\n",
        "  d = date.strftime('%Y%m%d')\n",
        "  d_before = (date + DateOffset(days = 2)).date()\n",
        "  q = \"{} after:{} and before:{}\".format(query, date.strftime('%Y-%m-%d'), d_before.strftime('%Y-%m-%d'))\n",
        "  url = \"https://www.google.com/search?q={}&sort=date:r:{}:{}&num={}\".format(q, date.strftime('%Y-%m-%d'), d_before.strftime('%Y-%m-%d'), GSE_MAX_RESULTS)\n",
        "  print(url)\n",
        "  print(\"horizon = \" + \"after:\" + date.strftime('%Y-%m-%d') +\" and \"+\"before:\"+d_before.strftime('%Y-%m-%d'))\n",
        "  #print(query)\n",
        "  print('\\n')\n",
        "  driver = get_driver()\n",
        "  driver.get(url)\n",
        "  soup = BeautifulSoup(driver.page_source, 'html.parser') \n",
        "  return driver.page_source\n",
        "  \n",
        "def fetch_result(date, item):\n",
        "  try:\n",
        "    return {\n",
        "        'date': date.strftime('%Y-%m-%d'),\n",
        "        'header' : item.select_one('h3').text,\n",
        "        'summary': item.findChildren('div', recursive=False)[-1].text,\n",
        "        'link' : item.find('a', href=True)['href'].replace('/url?q=', '').split('&sa')[0],\n",
        "         \n",
        "    }\n",
        "    \n",
        "  except:\n",
        "    return None\n",
        "\n",
        "def search(query, date):\n",
        "  soup = BeautifulSoup(page_source(query, date), 'html.parser') \n",
        "  html_results = soup.find_all('div', {'class': GSE_RESULTS_CLASS })\n",
        "  results = [fetch_result(date, r) for r in html_results]\n",
        "  return pd.DataFrame(list(filter(None, results)))\n",
        "\n",
        "def fetch_domain(df):\n",
        "  df['protocol'],df['domain'],df['path'],df['query'],df['fragment'] = zip(*[urllib.parse.urlsplit(x) for x in df.link])\n",
        "  return df\n",
        "\n",
        "def fetch_hostname(df): \n",
        "  urls = df['link']\n",
        "  hostnames = []\n",
        "  for url in urls:\n",
        "    try:\n",
        "      res = get_tld(url, as_object=True)\n",
        "      hostnames.append(res.fld)\n",
        "    except:\n",
        "      res = np.nan\n",
        "      hostnames.append(res)\n",
        "  df['host_name'] = hostnames\n",
        "  return df\n",
        "\n",
        "def fetch_ipaddress(df):\n",
        "  domains = df['domain']\n",
        "  ipaddress = []\n",
        "  for i in domains:\n",
        "      i_strip = i.strip()\n",
        "      try:\n",
        "          ip = socket.gethostbyname(i_strip)\n",
        "          ipaddress.append(ip)\n",
        "      except socket.gaierror:\n",
        "        ipaddress.append('127.0.0.1')\n",
        "  df['ip_address'] = ipaddress\n",
        "  return df\n",
        "\n",
        "def fetch_location(df):\n",
        "  iplocation = IPStackLookup(api_key=access_token_ipstack)\n",
        "  df = iplocation.df_lookup_ip(df, column=\"ip_address\")\n",
        "  return df\n",
        "\n",
        "def fetch_nlp(df):\n",
        "  df['header_context_true'] = df['header'].apply(lambda x: str(NLP(x)))\n",
        "  df['summary_context_true'] = df['summary'].apply(lambda x: str(NLP(x)))\n",
        "  return df\n",
        "\n",
        "def save(df):\n",
        "  datamax = str(df['date'].max())\n",
        "  fileName = path + datamax + '.csv'\n",
        "  df.to_csv(fileName, sep=';', encoding='UTF-8')\n",
        "  \n",
        "def next_data(df):\n",
        "  df['date'] = pd.to_datetime(df['date'], dayfirst = False)\n",
        "  lst_date = df['date'].max()\n",
        "  nxt_date = (lst_date.date() + DateOffset(days = 1)).date()\n",
        "  return nxt_date\n",
        "\n",
        "### APENAS PARA MONGODB ###\n",
        "#def save(df):\n",
        "#  client = pymongo.MongoClient(access_token_pymongo)\n",
        "#  db = client.covid_impact\n",
        "#  df = df.astype('str')\n",
        "#  db.impacts.insert_many(df.to_dict('records'))\n",
        "\n",
        "#def load():\n",
        "#  client = pymongo.MongoClient(access_token_pymongo)\n",
        "#  db = client.covid_impact\n",
        "#  df = pd.DataFrame.from_records(db.impacts.find())\n",
        "# return df"
      ],
      "execution_count": 789,
      "outputs": []
    },
    {
      "cell_type": "markdown",
      "metadata": {
        "id": "fnOVzoMMbQ20"
      },
      "source": [
        "### Create strings"
      ]
    },
    {
      "cell_type": "code",
      "metadata": {
        "id": "X0AlUuJzVuRi"
      },
      "source": [
        "# Scraper 1 (2020)\n",
        "keyword = '\"covid impact\" OR \"disaster\" OR \"resilience\" AND \"software engineers\" OR \"software development\" OR \"disaster informatics\" AND \"productivity\" OR \"work from home\" OR \"remote working\"'\n",
        "\n",
        "# Scraper 3 (2021 v2)\n",
        "# keyword = '\"covid-19\" OR \"covid\" OR \"coronavirus\" AND “impact\" OR \"disaster\" OR \"resilience\" AND “software” OR \"software engineer\" OR \"agile\" OR \"information industry\" OR \"IT\" OR \"disaster informatics\" OR \"crisis informatics\" OR \"productivity\" OR \"remote\" OR \"work\" OR \"future of work\"'"
      ],
      "execution_count": 790,
      "outputs": []
    },
    {
      "cell_type": "markdown",
      "metadata": {
        "id": "MVOHIu8clWUI"
      },
      "source": [
        ""
      ]
    },
    {
      "cell_type": "markdown",
      "metadata": {
        "id": "Jxn7MZL0aIXF"
      },
      "source": [
        "### Merge csv's or SCRAPER new search"
      ]
    },
    {
      "cell_type": "code",
      "metadata": {
        "colab": {
          "base_uri": "https://localhost:8080/",
          "height": 643
        },
        "id": "cyVJFSLZmfQ9",
        "outputId": "22725609-c62e-419d-8ae5-651a2391b584"
      },
      "source": [
        "# merge multiples csv's files\n",
        "extension = 'csv'\n",
        "all_filenames = [i for i in glob.glob('*.{}'.format(extension))]\n",
        "files = len(all_filenames)\n",
        "\n",
        "if files >= 1:\n",
        "  #combine all files in path\n",
        "  df = pd.concat([pd.read_csv(f, sep=';', parse_dates=[\"date\"], engine=\"python\", encoding='UTF-8') for f in all_filenames ])\n",
        "else:\n",
        "  #get first date\n",
        "  first_date = date(2021, 1, 1)\n",
        "  #get seach\n",
        "  df = search(keyword,first_date)\n",
        "  #get domain\n",
        "  df = fetch_domain(df)\n",
        "  #get hostname\n",
        "  df = fetch_hostname(df)\n",
        "  #get ipaddress\n",
        "  df = fetch_ipaddress(df)\n",
        "  #get geocoded ipaddress\n",
        "  df = fetch_location(df)\n",
        "  #save\n",
        "  save(df)  \n",
        "\n",
        "#print df\n",
        "df.tail()"
      ],
      "execution_count": 791,
      "outputs": [
        {
          "output_type": "execute_result",
          "data": {
            "text/html": [
              "<div>\n",
              "<style scoped>\n",
              "    .dataframe tbody tr th:only-of-type {\n",
              "        vertical-align: middle;\n",
              "    }\n",
              "\n",
              "    .dataframe tbody tr th {\n",
              "        vertical-align: top;\n",
              "    }\n",
              "\n",
              "    .dataframe thead th {\n",
              "        text-align: right;\n",
              "    }\n",
              "</style>\n",
              "<table border=\"1\" class=\"dataframe\">\n",
              "  <thead>\n",
              "    <tr style=\"text-align: right;\">\n",
              "      <th></th>\n",
              "      <th>Unnamed: 0</th>\n",
              "      <th>date</th>\n",
              "      <th>header</th>\n",
              "      <th>summary</th>\n",
              "      <th>link</th>\n",
              "      <th>protocol</th>\n",
              "      <th>domain</th>\n",
              "      <th>path</th>\n",
              "      <th>query</th>\n",
              "      <th>fragment</th>\n",
              "      <th>host_name</th>\n",
              "      <th>ip_address</th>\n",
              "      <th>CountryCode</th>\n",
              "      <th>CountryName</th>\n",
              "      <th>State</th>\n",
              "      <th>City</th>\n",
              "      <th>Longitude</th>\n",
              "      <th>Latitude</th>\n",
              "      <th>Asn</th>\n",
              "      <th>TimeGenerated</th>\n",
              "      <th>Type</th>\n",
              "      <th>AdditionalData</th>\n",
              "      <th>IpAddress</th>\n",
              "      <th>header_context_true</th>\n",
              "      <th>summary_context_true</th>\n",
              "    </tr>\n",
              "  </thead>\n",
              "  <tbody>\n",
              "    <tr>\n",
              "      <th>100</th>\n",
              "      <td>100</td>\n",
              "      <td>2021-03-31</td>\n",
              "      <td>31 Crucial Insider Threat Statistics: 2021 Lat...</td>\n",
              "      <td>Frequency of attacks · 60% of data breaches ar...</td>\n",
              "      <td>https://financesonline.com/insider-threat-stat...</td>\n",
              "      <td>https</td>\n",
              "      <td>financesonline.com</td>\n",
              "      <td>/insider-threat-statistics/</td>\n",
              "      <td>NaN</td>\n",
              "      <td>NaN</td>\n",
              "      <td>financesonline.com</td>\n",
              "      <td>192.124.249.111</td>\n",
              "      <td>US</td>\n",
              "      <td>United States</td>\n",
              "      <td>California</td>\n",
              "      <td>Menifee</td>\n",
              "      <td>-117.189110</td>\n",
              "      <td>33.657532</td>\n",
              "      <td>30148.0</td>\n",
              "      <td>NaN</td>\n",
              "      <td>geolocation</td>\n",
              "      <td>{}</td>\n",
              "      <td>192.124.249.111</td>\n",
              "      <td>31 Crucial Insider Threat Statistics: 2021 Lat...</td>\n",
              "      <td>Frequency of attacks · 60% of data breaches ar...</td>\n",
              "    </tr>\n",
              "    <tr>\n",
              "      <th>101</th>\n",
              "      <td>101</td>\n",
              "      <td>2021-03-31</td>\n",
              "      <td>[PDF] Annual rEPORT 2020 - LUMS Consultancy Group</td>\n",
              "      <td>Apr 1, 2021 · Leveraging drone technology in a...</td>\n",
              "      <td>https://lcg.lums.edu.pk/wp-content/uploads/202...</td>\n",
              "      <td>https</td>\n",
              "      <td>lcg.lums.edu.pk</td>\n",
              "      <td>/wp-content/uploads/2021/04/Report-1.pdf</td>\n",
              "      <td>NaN</td>\n",
              "      <td>NaN</td>\n",
              "      <td>lums.edu.pk</td>\n",
              "      <td>203.135.63.169</td>\n",
              "      <td>PK</td>\n",
              "      <td>Pakistan</td>\n",
              "      <td>Punjab</td>\n",
              "      <td>Lahore</td>\n",
              "      <td>74.313332</td>\n",
              "      <td>31.563330</td>\n",
              "      <td>17557.0</td>\n",
              "      <td>NaN</td>\n",
              "      <td>geolocation</td>\n",
              "      <td>{}</td>\n",
              "      <td>203.135.63.169</td>\n",
              "      <td>[PDF] Annual rEPORT 2020 - LUMS Consultancy Group</td>\n",
              "      <td>Apr 1, 2021 · Leveraging drone technology in a...</td>\n",
              "    </tr>\n",
              "    <tr>\n",
              "      <th>102</th>\n",
              "      <td>102</td>\n",
              "      <td>2021-03-31</td>\n",
              "      <td>[PDF] Download the 2020 Annual Report - RSA Group</td>\n",
              "      <td>Apr 1, 2021 · customers, operational resilienc...</td>\n",
              "      <td>https://www.rsagroup.com/media/kfwfyt1d/rsa-an...</td>\n",
              "      <td>https</td>\n",
              "      <td>www.rsagroup.com</td>\n",
              "      <td>/media/kfwfyt1d/rsa-annual-report-and-accounts...</td>\n",
              "      <td>NaN</td>\n",
              "      <td>NaN</td>\n",
              "      <td>rsagroup.com</td>\n",
              "      <td>52.157.222.206</td>\n",
              "      <td>NL</td>\n",
              "      <td>Netherlands</td>\n",
              "      <td>North Holland</td>\n",
              "      <td>Diemen</td>\n",
              "      <td>4.940190</td>\n",
              "      <td>52.309052</td>\n",
              "      <td>8075.0</td>\n",
              "      <td>NaN</td>\n",
              "      <td>geolocation</td>\n",
              "      <td>{}</td>\n",
              "      <td>52.157.222.206</td>\n",
              "      <td>[PDF] Download the 2020 Annual Report - RSA Group</td>\n",
              "      <td>Apr 1, 2021 · customers, operational resilienc...</td>\n",
              "    </tr>\n",
              "    <tr>\n",
              "      <th>103</th>\n",
              "      <td>103</td>\n",
              "      <td>2021-03-31</td>\n",
              "      <td>[PDF] A Taxonomy of UK National Laboratories -...</td>\n",
              "      <td>context of its plans for national resilience, ...</td>\n",
              "      <td>https://www.airto.co.uk/wp-content/uploads/202...</td>\n",
              "      <td>https</td>\n",
              "      <td>www.airto.co.uk</td>\n",
              "      <td>/wp-content/uploads/2021/03/MASTER_AIRTO_PRESE...</td>\n",
              "      <td>NaN</td>\n",
              "      <td>NaN</td>\n",
              "      <td>airto.co.uk</td>\n",
              "      <td>206.189.24.22</td>\n",
              "      <td>GB</td>\n",
              "      <td>United Kingdom</td>\n",
              "      <td>England</td>\n",
              "      <td>Romford</td>\n",
              "      <td>0.116600</td>\n",
              "      <td>51.583302</td>\n",
              "      <td>14061.0</td>\n",
              "      <td>NaN</td>\n",
              "      <td>geolocation</td>\n",
              "      <td>{}</td>\n",
              "      <td>206.189.24.22</td>\n",
              "      <td>[PDF] A Taxonomy of UK National Laboratories -...</td>\n",
              "      <td>context of its plans for national resilience, ...</td>\n",
              "    </tr>\n",
              "    <tr>\n",
              "      <th>104</th>\n",
              "      <td>104</td>\n",
              "      <td>2021-03-31</td>\n",
              "      <td>[PDF] Management-Matters-April-2021.pdf - LIBA</td>\n",
              "      <td>Apr 1, 2021 · Social capital assumes a lot of ...</td>\n",
              "      <td>https://liba.edu/wp-content/uploads/2021/04/Ma...</td>\n",
              "      <td>https</td>\n",
              "      <td>liba.edu</td>\n",
              "      <td>/wp-content/uploads/2021/04/Management-Matters...</td>\n",
              "      <td>NaN</td>\n",
              "      <td>NaN</td>\n",
              "      <td>liba.edu</td>\n",
              "      <td>148.72.219.251</td>\n",
              "      <td>US</td>\n",
              "      <td>United States</td>\n",
              "      <td>Arizona</td>\n",
              "      <td>Scottsdale</td>\n",
              "      <td>-111.890106</td>\n",
              "      <td>33.610958</td>\n",
              "      <td>26496.0</td>\n",
              "      <td>NaN</td>\n",
              "      <td>geolocation</td>\n",
              "      <td>{}</td>\n",
              "      <td>148.72.219.251</td>\n",
              "      <td>[PDF] Management-Matters-April-2021.pdf - LIBA</td>\n",
              "      <td>Apr 1, 2021 · Social capital assumes a lot of ...</td>\n",
              "    </tr>\n",
              "  </tbody>\n",
              "</table>\n",
              "</div>"
            ],
            "text/plain": [
              "     Unnamed: 0  ...                               summary_context_true\n",
              "100         100  ...  Frequency of attacks · 60% of data breaches ar...\n",
              "101         101  ...  Apr 1, 2021 · Leveraging drone technology in a...\n",
              "102         102  ...  Apr 1, 2021 · customers, operational resilienc...\n",
              "103         103  ...  context of its plans for national resilience, ...\n",
              "104         104  ...  Apr 1, 2021 · Social capital assumes a lot of ...\n",
              "\n",
              "[5 rows x 25 columns]"
            ]
          },
          "metadata": {},
          "execution_count": 791
        }
      ]
    },
    {
      "cell_type": "markdown",
      "metadata": {
        "id": "oAwamVDeSLTc"
      },
      "source": [
        "### SCRAPER new search"
      ]
    },
    {
      "cell_type": "code",
      "metadata": {
        "colab": {
          "base_uri": "https://localhost:8080/",
          "height": 462
        },
        "id": "UYZa7T09L1mM",
        "outputId": "06f9b9dc-a698-4748-a374-225329157609"
      },
      "source": [
        "#get next data\n",
        "next_date = next_data(df)\n",
        "\n",
        "#get seach\n",
        "df_new = search(keyword, next_date)\n",
        "\n",
        "#get domain\n",
        "df_new = fetch_domain(df_new)\n",
        "\n",
        "#get hostname\n",
        "df_new = fetch_hostname(df_new)\n",
        "\n",
        "#get ipaddress\n",
        "df_new = fetch_ipaddress(df_new)\n",
        "\n",
        "#get geocoded ipaddress\n",
        "df_new = fetch_location(df_new)\n",
        "\n",
        "#get nlp contextualSpellCheck \n",
        "df_new = fetch_nlp(df_new)\n",
        "\n",
        "#save df new\n",
        "save(df_new)\n",
        "\n",
        "#print new df\n",
        "df_new.head(2)\n",
        "\n"
      ],
      "execution_count": 792,
      "outputs": [
        {
          "output_type": "stream",
          "name": "stdout",
          "text": [
            "https://www.google.com/search?q=\"covid impact\" OR \"disaster\" OR \"resilience\" AND \"software engineers\" OR \"software development\" OR \"disaster informatics\" AND \"productivity\" OR \"work from home\" OR \"remote working\" after:2021-04-01 and before:2021-04-03&sort=date:r:2021-04-01:2021-04-03&num=200\n",
            "horizon = after:2021-04-01 and before:2021-04-03\n",
            "\n",
            "\n",
            "huggingface/tokenizers: The current process just got forked, after parallelism has already been used. Disabling parallelism to avoid deadlocks...\n",
            "To disable this warning, you can either:\n",
            "\t- Avoid using `tokenizers` before the fork if possible\n",
            "\t- Explicitly set the environment variable TOKENIZERS_PARALLELISM=(true | false)\n"
          ]
        },
        {
          "output_type": "execute_result",
          "data": {
            "text/html": [
              "<div>\n",
              "<style scoped>\n",
              "    .dataframe tbody tr th:only-of-type {\n",
              "        vertical-align: middle;\n",
              "    }\n",
              "\n",
              "    .dataframe tbody tr th {\n",
              "        vertical-align: top;\n",
              "    }\n",
              "\n",
              "    .dataframe thead th {\n",
              "        text-align: right;\n",
              "    }\n",
              "</style>\n",
              "<table border=\"1\" class=\"dataframe\">\n",
              "  <thead>\n",
              "    <tr style=\"text-align: right;\">\n",
              "      <th></th>\n",
              "      <th>date</th>\n",
              "      <th>header</th>\n",
              "      <th>summary</th>\n",
              "      <th>link</th>\n",
              "      <th>protocol</th>\n",
              "      <th>domain</th>\n",
              "      <th>path</th>\n",
              "      <th>query</th>\n",
              "      <th>fragment</th>\n",
              "      <th>host_name</th>\n",
              "      <th>ip_address</th>\n",
              "      <th>CountryCode</th>\n",
              "      <th>CountryName</th>\n",
              "      <th>State</th>\n",
              "      <th>City</th>\n",
              "      <th>Longitude</th>\n",
              "      <th>Latitude</th>\n",
              "      <th>Asn</th>\n",
              "      <th>TimeGenerated</th>\n",
              "      <th>Type</th>\n",
              "      <th>AdditionalData</th>\n",
              "      <th>IpAddress</th>\n",
              "      <th>header_context_true</th>\n",
              "      <th>summary_context_true</th>\n",
              "    </tr>\n",
              "  </thead>\n",
              "  <tbody>\n",
              "    <tr>\n",
              "      <th>0</th>\n",
              "      <td>2021-04-01</td>\n",
              "      <td>3 Digital Priorities for Software Engineering ...</td>\n",
              "      <td>Apr 2, 2021 · On a daily basis, software engin...</td>\n",
              "      <td>https://www.gartner.com/smarterwithgartner/3-d...</td>\n",
              "      <td>https</td>\n",
              "      <td>www.gartner.com</td>\n",
              "      <td>/smarterwithgartner/3-digital-priorities-for-s...</td>\n",
              "      <td></td>\n",
              "      <td></td>\n",
              "      <td>gartner.com</td>\n",
              "      <td>65.8.181.123</td>\n",
              "      <td>US</td>\n",
              "      <td>United States</td>\n",
              "      <td>Florida</td>\n",
              "      <td>Flagami</td>\n",
              "      <td>-80.311958</td>\n",
              "      <td>25.762859</td>\n",
              "      <td>16509.0</td>\n",
              "      <td>None</td>\n",
              "      <td>geolocation</td>\n",
              "      <td>{}</td>\n",
              "      <td>65.8.181.123</td>\n",
              "      <td>3 Digital Priorities for Software Engineering ...</td>\n",
              "      <td>Apr 2, 2021 · On a daily basis, software engin...</td>\n",
              "    </tr>\n",
              "    <tr>\n",
              "      <th>1</th>\n",
              "      <td>2021-04-01</td>\n",
              "      <td>Strickland Solutions | Global Leaders in Techn...</td>\n",
              "      <td>Decades of business IT solutions, IT architect...</td>\n",
              "      <td>https://stricklandsolutions.com/</td>\n",
              "      <td>https</td>\n",
              "      <td>stricklandsolutions.com</td>\n",
              "      <td>/</td>\n",
              "      <td></td>\n",
              "      <td></td>\n",
              "      <td>stricklandsolutions.com</td>\n",
              "      <td>64.111.100.225</td>\n",
              "      <td>US</td>\n",
              "      <td>United States</td>\n",
              "      <td>California</td>\n",
              "      <td>Brea</td>\n",
              "      <td>-117.885399</td>\n",
              "      <td>33.927010</td>\n",
              "      <td>26347.0</td>\n",
              "      <td>None</td>\n",
              "      <td>geolocation</td>\n",
              "      <td>{}</td>\n",
              "      <td>64.111.100.225</td>\n",
              "      <td>Strickland Solutions | Global Leaders in Techn...</td>\n",
              "      <td>Decades of business IT solutions, IT architect...</td>\n",
              "    </tr>\n",
              "  </tbody>\n",
              "</table>\n",
              "</div>"
            ],
            "text/plain": [
              "         date  ...                               summary_context_true\n",
              "0  2021-04-01  ...  Apr 2, 2021 · On a daily basis, software engin...\n",
              "1  2021-04-01  ...  Decades of business IT solutions, IT architect...\n",
              "\n",
              "[2 rows x 24 columns]"
            ]
          },
          "metadata": {},
          "execution_count": 792
        }
      ]
    }
  ]
}